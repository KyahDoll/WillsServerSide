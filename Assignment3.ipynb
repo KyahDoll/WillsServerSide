{
 "cells": [
  {
   "cell_type": "markdown",
   "metadata": {},
   "source": [
    "# Assignment 3\n",
    "\n",
    "### Instructions\n",
    "1. Import the following modules:\n",
    "    - `pandas`\n",
    "    - `stats` from `scipy`\n",
    "2. Create a dataframe from the data contained in *Income Data.csv* using `pandas`"
   ]
  },
  {
   "cell_type": "code",
   "execution_count": 7,
   "metadata": {},
   "outputs": [],
   "source": [
    "# Code here"
   ]
  },
  {
   "cell_type": "markdown",
   "metadata": {},
   "source": [
    "3. Calculate and display Pearson's **correlation coefficients** and the **p-values** for *income* and *education*"
   ]
  },
  {
   "cell_type": "code",
   "execution_count": 8,
   "metadata": {},
   "outputs": [],
   "source": [
    "# Code here"
   ]
  },
  {
   "cell_type": "markdown",
   "metadata": {},
   "source": [
    "3. Calculate and display Pearson's **correlation coefficients** and the **p-values** for *income* and *prestige*"
   ]
  },
  {
   "cell_type": "code",
   "execution_count": 9,
   "metadata": {},
   "outputs": [],
   "source": [
    "# Code here"
   ]
  },
  {
   "cell_type": "markdown",
   "metadata": {},
   "source": [
    "4. Calculate and display Pearson's **correlation coefficients** and the **p-values** for *education* and *prestige*"
   ]
  },
  {
   "cell_type": "code",
   "execution_count": 10,
   "metadata": {},
   "outputs": [],
   "source": [
    "# Code here"
   ]
  },
  {
   "cell_type": "markdown",
   "metadata": {},
   "source": [
    "5. In the empty `Markdown` cell below, explain the following for **each of the calculated correlation coefficients**\n",
    "    - The **strength** and **direction** of the correlation\n",
    "    - The **statistical significance** of the test (**p-value**); emphasize if we can trust the correlation test or not, and why"
   ]
  },
  {
   "cell_type": "markdown",
   "metadata": {},
   "source": []
  },
  {
   "cell_type": "markdown",
   "metadata": {},
   "source": [
    "In the empty `Markdown` cell below, answer the following question:\n",
    "\n",
    "6. Pearson's correlation coefficient OR covariance can both be used to measure the direction of the relationship between two variables (e.g., education and income). Explain why Pearson's correlation coefficient may be better than covariance."
   ]
  },
  {
   "cell_type": "markdown",
   "metadata": {},
   "source": []
  },
  {
   "cell_type": "markdown",
   "metadata": {},
   "source": [
    "7. Submit this `Jupyter` file to D2L, renamed as **Last_First_Assignment3.ipynb** \n",
    "    - Replace '**Last**' and '**First**' with your name"
   ]
  }
 ],
 "metadata": {
  "kernelspec": {
   "display_name": "Python 3",
   "language": "python",
   "name": "python3"
  },
  "language_info": {
   "codemirror_mode": {
    "name": "ipython",
    "version": 3
   },
   "file_extension": ".py",
   "mimetype": "text/x-python",
   "name": "python",
   "nbconvert_exporter": "python",
   "pygments_lexer": "ipython3",
   "version": "3.11.4"
  },
  "orig_nbformat": 4
 },
 "nbformat": 4,
 "nbformat_minor": 2
}
